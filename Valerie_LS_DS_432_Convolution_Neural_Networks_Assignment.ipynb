{
  "nbformat": 4,
  "nbformat_minor": 0,
  "metadata": {
    "kernelspec": {
      "display_name": "U4-S3-DNN (Python 3.7)",
      "language": "python",
      "name": "u4-s3-dnn"
    },
    "language_info": {
      "codemirror_mode": {
        "name": "ipython",
        "version": 3
      },
      "file_extension": ".py",
      "mimetype": "text/x-python",
      "name": "python",
      "nbconvert_exporter": "python",
      "pygments_lexer": "ipython3",
      "version": "3.7.3"
    },
    "colab": {
      "name": "Valerie_LS_DS_432_Convolution_Neural_Networks_Assignment.ipynb",
      "version": "0.3.2",
      "provenance": [],
      "collapsed_sections": [],
      "include_colab_link": true
    }
  },
  "cells": [
    {
      "cell_type": "markdown",
      "metadata": {
        "id": "view-in-github",
        "colab_type": "text"
      },
      "source": [
        "<a href=\"https://colab.research.google.com/github/ValerieLangat/DS-Unit-4-Sprint-3-Deep-Learning/blob/master/Valerie_LS_DS_432_Convolution_Neural_Networks_Assignment.ipynb\" target=\"_parent\"><img src=\"https://colab.research.google.com/assets/colab-badge.svg\" alt=\"Open In Colab\"/></a>"
      ]
    },
    {
      "cell_type": "markdown",
      "metadata": {
        "id": "sX8VQ7cx8cLG",
        "colab_type": "text"
      },
      "source": [
        "<img align=\"left\" src=\"https://lever-client-logos.s3.amazonaws.com/864372b1-534c-480e-acd5-9711f850815c-1524247202159.png\" width=200>\n",
        "<br></br>\n",
        "<br></br>\n",
        "\n",
        "## *Data Science Unit 4 Sprint 3 Assignment 2*\n",
        "# Convolutional Neural Networks (CNNs)"
      ]
    },
    {
      "cell_type": "markdown",
      "metadata": {
        "colab_type": "text",
        "id": "0lfZdD_cp1t5"
      },
      "source": [
        "# Assignment\n",
        "\n",
        "Load a pretrained network from TensorFlow Hub, [ResNet50](https://tfhub.dev/google/imagenet/resnet_v1_50/classification/1) - a 50 layer deep network trained to recognize [1000 objects](https://storage.googleapis.com/download.tensorflow.org/data/ImageNetLabels.txt). Starting usage:\n",
        "\n",
        "```python\n",
        "module = hub.Module(\"https://tfhub.dev/google/imagenet/resnet_v1_50/classification/1\")\n",
        "height, width = hub.get_expected_image_size(module)\n",
        "images = ...  # A batch of images with shape [batch_size, height, width, 3].\n",
        "logits = module(images)  # Logits with shape [batch_size, num_classes].\n",
        "```\n",
        "\n",
        "Apply it to classify the images downloaded below (images from a search for animals in national parks):"
      ]
    },
    {
      "cell_type": "code",
      "metadata": {
        "id": "n7kWbsQUIXsM",
        "colab_type": "code",
        "colab": {
          "base_uri": "https://localhost:8080/",
          "height": 34
        },
        "outputId": "c822c056-8551-4cff-9b88-4afacc8e259c"
      },
      "source": [
        "import imageio\n",
        "import pandas as pd\n",
        "import matplotlib.pyplot as plt\n",
        "import matplotlib.image as mpimg\n",
        "from scipy.spatial import cKDTree\n",
        "from skimage.feature import plot_matches\n",
        "from skimage.filters import gaussian\n",
        "from skimage.measure import ransac\n",
        "from skimage.transform import AffineTransform\n",
        "from skimage import color, io\n",
        "from skimage.exposure import rescale_intensity\n",
        "from keras.applications.resnet50 import preprocess_input, decode_predictions\n",
        "from keras.preprocessing import image"
      ],
      "execution_count": 5,
      "outputs": [
        {
          "output_type": "stream",
          "text": [
            "Using TensorFlow backend.\n"
          ],
          "name": "stderr"
        }
      ]
    },
    {
      "cell_type": "code",
      "metadata": {
        "colab_type": "code",
        "id": "GgTukFacGBBs",
        "outputId": "a7eff6e5-de43-4604-937e-25095b42a62f",
        "colab": {
          "base_uri": "https://localhost:8080/",
          "height": 88
        }
      },
      "source": [
        "!pip install google_images_download"
      ],
      "execution_count": 6,
      "outputs": [
        {
          "output_type": "stream",
          "text": [
            "Requirement already satisfied: google_images_download in /usr/local/lib/python3.6/dist-packages (2.8.0)\n",
            "Requirement already satisfied: selenium in /usr/local/lib/python3.6/dist-packages (from google_images_download) (3.141.0)\n",
            "Requirement already satisfied: urllib3 in /usr/local/lib/python3.6/dist-packages (from selenium->google_images_download) (1.24.3)\n"
          ],
          "name": "stdout"
        }
      ]
    },
    {
      "cell_type": "code",
      "metadata": {
        "colab_type": "code",
        "id": "h6sMrlvLKT5X",
        "colab": {
          "base_uri": "https://localhost:8080/",
          "height": 836
        },
        "outputId": "23010482-9c4f-440d-c567-c2bf50d8e99e"
      },
      "source": [
        "from google_images_download import google_images_download\n",
        "\n",
        "response = google_images_download.googleimagesdownload()\n",
        "arguments = {\"keywords\": \"animal national park\", \"limit\": 20,\n",
        "             \"print_urls\": True}\n",
        "absolute_image_paths = response.download(arguments)"
      ],
      "execution_count": 7,
      "outputs": [
        {
          "output_type": "stream",
          "text": [
            "\n",
            "Item no.: 1 --> Item name = animal national park\n",
            "Evaluating...\n",
            "Starting Download...\n",
            "Image URL: https://i.ytimg.com/vi/P8NJa_YoRxk/maxresdefault.jpg\n",
            "Completed Image ====> 1.maxresdefault.jpg\n",
            "Image URL: https://k6u8v6y8.stackpathcdn.com/blog/wp-content/uploads/2017/06/Royal-Bengal-Tiger.jpg\n",
            "Completed Image ====> 2.Royal-Bengal-Tiger.jpg\n",
            "Image URL: https://www.nps.gov/arch/learn/nature/images/ARK_6.jpg?maxwidth=1200&maxheight=1200&autorotate=false\n",
            "Completed Image ====> 3.ARK_6.jpg\n",
            "Image URL: https://www.corbettnationalpark.in/blog/wp-content/uploads/2015/08/cropped-13625772024_1fd7467d29_k1.jpg\n",
            "Completed Image ====> 4.cropped-13625772024_1fd7467d29_k1.jpg\n",
            "Image URL: https://npca.s3.amazonaws.com/images/8135/2c7e0d75-c7ff-4336-99d7-259448d03a4d-banner.jpg?1445969501\n",
            "Completed Image ====> 5.2c7e0d75-c7ff-4336-99d7-259448d03a4d-banner.jpg\n",
            "Image URL: https://k6u8v6y8.stackpathcdn.com/blog/wp-content/uploads/2014/04/national-parks-and-wildlife-sanctuaries-in-india.png\n",
            "Completed Image ====> 6.national-parks-and-wildlife-sanctuaries-in-india.png\n",
            "Image URL: https://www.nps.gov/voya/learn/nature/images/VOYA_web_deer.jpg?maxwidth=1200&maxheight=1200&autorotate=false\n",
            "Completed Image ====> 7.VOYA_web_deer.jpg\n",
            "Image URL: https://npca.s3.amazonaws.com/images/11194/a2d539ed-8489-4eb4-a135-14e7e9e0e84a-banner.jpg?1495201170\n",
            "Completed Image ====> 8.a2d539ed-8489-4eb4-a135-14e7e9e0e84a-banner.jpg\n",
            "Image URL: http://www.nature-reserve.co.za/images/addo-elephant-national-park-elephants-590x390.jpg\n",
            "Completed Image ====> 9.addo-elephant-national-park-elephants-590x390.jpg\n",
            "Image URL: https://www.kideponationalpark.com/wp-content/uploads/2016/11/zebras-in-kidepo-750x450.jpg\n",
            "Completed Image ====> 10.zebras-in-kidepo-750x450.jpg\n",
            "Image URL: http://jacksonhole-traveler-production.s3.amazonaws.com/wp-content/uploads/2014/05/moose-moosecalf-1280x853.jpg\n",
            "Completed Image ====> 11.moose-moosecalf-1280x853.jpg\n",
            "Image URL: https://allaboutassam.in/wp-content/uploads/2018/12/nameri-national-park-is-famous-for-which-animal.jpg\n",
            "Completed Image ====> 12.nameri-national-park-is-famous-for-which-animal.jpg\n",
            "Image URL: https://upload.wikimedia.org/wikipedia/commons/5/54/Nairobi_National_Park%2C_Kenya_%2832570316676%29.jpg\n",
            "Completed Image ====> 13.Nairobi_National_Park%2C_Kenya_%2832570316676%29.jpg\n",
            "Image URL: https://lowvelder.co.za/wp-content/uploads/sites/44/2019/01/lion-520x400.jpg\n",
            "Completed Image ====> 14.lion-520x400.jpg\n",
            "Image URL: https://ihplb.b-cdn.net/wp-content/uploads/2014/06/Bandhavgarh.jpg\n",
            "Completed Image ====> 15.Bandhavgarh.jpg\n",
            "Image URL: https://static.toiimg.com/thumb/50927262/Dudhwa-National-Park.jpg?width=748&height=499\n",
            "Completed Image ====> 16.Dudhwa-National-Park.jpg\n",
            "Image URL: https://upload.wikimedia.org/wikipedia/commons/1/1f/Tiger_Kanha_National_Park.jpg\n",
            "Completed Image ====> 17.Tiger_Kanha_National_Park.jpg\n",
            "Image URL: https://pcacdn.azureedge.net/-/media/pn-np/ab/banff/WET4/decouvrir-discover/animaux-animals/mammifieres-mammals/faune-wildlife/Grizzly-DanRafla.jpg?modified=20170314151358\n",
            "Completed Image ====> 18.Grizzly-DanRafla.jpg\n",
            "Image URL: https://assets.traveltriangle.com/blog/wp-content/uploads/2016/08/Sariska-national-Park.jpg\n",
            "Completed Image ====> 19.Sariska-national-Park.jpg\n",
            "Image URL: https://africanbluetours.com/wp-content/uploads/2015/04/2-day-kruger-slider1.jpg\n",
            "Completed Image ====> 20.2-day-kruger-slider1.jpg\n",
            "\n",
            "Errors: 0\n",
            "\n"
          ],
          "name": "stdout"
        }
      ]
    },
    {
      "cell_type": "code",
      "metadata": {
        "id": "7u1xbTXL7cEj",
        "colab_type": "code",
        "colab": {}
      },
      "source": [
        "import tensorflow as tf\n",
        "import tensorflow_hub as hub\n",
        "from PIL import Image, ImageOps\n",
        "import numpy as np"
      ],
      "execution_count": 0,
      "outputs": []
    },
    {
      "cell_type": "code",
      "metadata": {
        "colab_type": "code",
        "id": "zKaJ3uOiMAv0",
        "colab": {
          "base_uri": "https://localhost:8080/",
          "height": 394
        },
        "outputId": "50c3461d-89bd-4c45-d0dc-822dd7706476"
      },
      "source": [
        "absolute_image_paths"
      ],
      "execution_count": 9,
      "outputs": [
        {
          "output_type": "execute_result",
          "data": {
            "text/plain": [
              "({'animal national park': ['/content/downloads/animal national park/1.maxresdefault.jpg',\n",
              "   '/content/downloads/animal national park/2.Royal-Bengal-Tiger.jpg',\n",
              "   '/content/downloads/animal national park/3.ARK_6.jpg',\n",
              "   '/content/downloads/animal national park/4.cropped-13625772024_1fd7467d29_k1.jpg',\n",
              "   '/content/downloads/animal national park/5.2c7e0d75-c7ff-4336-99d7-259448d03a4d-banner.jpg',\n",
              "   '/content/downloads/animal national park/6.national-parks-and-wildlife-sanctuaries-in-india.png',\n",
              "   '/content/downloads/animal national park/7.VOYA_web_deer.jpg',\n",
              "   '/content/downloads/animal national park/8.a2d539ed-8489-4eb4-a135-14e7e9e0e84a-banner.jpg',\n",
              "   '/content/downloads/animal national park/9.addo-elephant-national-park-elephants-590x390.jpg',\n",
              "   '/content/downloads/animal national park/10.zebras-in-kidepo-750x450.jpg',\n",
              "   '/content/downloads/animal national park/11.moose-moosecalf-1280x853.jpg',\n",
              "   '/content/downloads/animal national park/12.nameri-national-park-is-famous-for-which-animal.jpg',\n",
              "   '/content/downloads/animal national park/13.Nairobi_National_Park%2C_Kenya_%2832570316676%29.jpg',\n",
              "   '/content/downloads/animal national park/14.lion-520x400.jpg',\n",
              "   '/content/downloads/animal national park/15.Bandhavgarh.jpg',\n",
              "   '/content/downloads/animal national park/16.Dudhwa-National-Park.jpg',\n",
              "   '/content/downloads/animal national park/17.Tiger_Kanha_National_Park.jpg',\n",
              "   '/content/downloads/animal national park/18.Grizzly-DanRafla.jpg',\n",
              "   '/content/downloads/animal national park/19.Sariska-national-Park.jpg',\n",
              "   '/content/downloads/animal national park/20.2-day-kruger-slider1.jpg']},\n",
              " 0)"
            ]
          },
          "metadata": {
            "tags": []
          },
          "execution_count": 9
        }
      ]
    },
    {
      "cell_type": "markdown",
      "metadata": {
        "colab_type": "text",
        "id": "Hly75VuiMQE1"
      },
      "source": [
        "Report both the most likely estimated class for any image, and also investigate (a) images where the classifier isn't that certain (the best estimate is low), and (b) images where the classifier fails.\n",
        "\n",
        "Answer (in writing in the notebook) the following - \"What sorts of images do CNN classifiers do well with? What sorts do they not do so well? And what are your hypotheses for why?\""
      ]
    },
    {
      "cell_type": "code",
      "metadata": {
        "id": "n1-srH098cLW",
        "colab_type": "code",
        "colab": {
          "base_uri": "https://localhost:8080/",
          "height": 34
        },
        "outputId": "86951f36-032b-4bcd-8b18-9bfa1b5d0269"
      },
      "source": [
        "module = hub.Module(\"https://tfhub.dev/google/imagenet/resnet_v1_50/classification/3\")\n",
        "height, width = hub.get_expected_image_size(module)\n",
        "height, width"
      ],
      "execution_count": 10,
      "outputs": [
        {
          "output_type": "execute_result",
          "data": {
            "text/plain": [
              "(224, 224)"
            ]
          },
          "metadata": {
            "tags": []
          },
          "execution_count": 10
        }
      ]
    },
    {
      "cell_type": "code",
      "metadata": {
        "id": "hJeS5ZNCOPU6",
        "colab_type": "code",
        "colab": {
          "base_uri": "https://localhost:8080/",
          "height": 836
        },
        "outputId": "e56b66a6-f52b-4372-b04b-192bddbed7f5"
      },
      "source": [
        "response = google_images_download.googleimagesdownload()\n",
        "arguments = {\"keywords\": \"animal national park\", \"limit\": 20,\n",
        "            \"print_urls\": True}\n",
        "absolute_image_paths = response.download(arguments)\n",
        "\n",
        "image_list = absolute_image_paths[0]['animal national park']"
      ],
      "execution_count": 11,
      "outputs": [
        {
          "output_type": "stream",
          "text": [
            "\n",
            "Item no.: 1 --> Item name = animal national park\n",
            "Evaluating...\n",
            "Starting Download...\n",
            "Image URL: https://i.ytimg.com/vi/P8NJa_YoRxk/maxresdefault.jpg\n",
            "Completed Image ====> 1.maxresdefault.jpg\n",
            "Image URL: https://k6u8v6y8.stackpathcdn.com/blog/wp-content/uploads/2017/06/Royal-Bengal-Tiger.jpg\n",
            "Completed Image ====> 2.Royal-Bengal-Tiger.jpg\n",
            "Image URL: https://www.nps.gov/arch/learn/nature/images/ARK_6.jpg?maxwidth=1200&maxheight=1200&autorotate=false\n",
            "Completed Image ====> 3.ARK_6.jpg\n",
            "Image URL: https://www.corbettnationalpark.in/blog/wp-content/uploads/2015/08/cropped-13625772024_1fd7467d29_k1.jpg\n",
            "Completed Image ====> 4.cropped-13625772024_1fd7467d29_k1.jpg\n",
            "Image URL: https://npca.s3.amazonaws.com/images/8135/2c7e0d75-c7ff-4336-99d7-259448d03a4d-banner.jpg?1445969501\n",
            "Completed Image ====> 5.2c7e0d75-c7ff-4336-99d7-259448d03a4d-banner.jpg\n",
            "Image URL: https://k6u8v6y8.stackpathcdn.com/blog/wp-content/uploads/2014/04/national-parks-and-wildlife-sanctuaries-in-india.png\n",
            "Completed Image ====> 6.national-parks-and-wildlife-sanctuaries-in-india.png\n",
            "Image URL: https://www.nps.gov/voya/learn/nature/images/VOYA_web_deer.jpg?maxwidth=1200&maxheight=1200&autorotate=false\n",
            "Completed Image ====> 7.VOYA_web_deer.jpg\n",
            "Image URL: https://npca.s3.amazonaws.com/images/11194/a2d539ed-8489-4eb4-a135-14e7e9e0e84a-banner.jpg?1495201170\n",
            "Completed Image ====> 8.a2d539ed-8489-4eb4-a135-14e7e9e0e84a-banner.jpg\n",
            "Image URL: http://www.nature-reserve.co.za/images/addo-elephant-national-park-elephants-590x390.jpg\n",
            "Completed Image ====> 9.addo-elephant-national-park-elephants-590x390.jpg\n",
            "Image URL: https://www.kideponationalpark.com/wp-content/uploads/2016/11/zebras-in-kidepo-750x450.jpg\n",
            "Completed Image ====> 10.zebras-in-kidepo-750x450.jpg\n",
            "Image URL: http://jacksonhole-traveler-production.s3.amazonaws.com/wp-content/uploads/2014/05/moose-moosecalf-1280x853.jpg\n",
            "Completed Image ====> 11.moose-moosecalf-1280x853.jpg\n",
            "Image URL: https://allaboutassam.in/wp-content/uploads/2018/12/nameri-national-park-is-famous-for-which-animal.jpg\n",
            "Completed Image ====> 12.nameri-national-park-is-famous-for-which-animal.jpg\n",
            "Image URL: https://upload.wikimedia.org/wikipedia/commons/5/54/Nairobi_National_Park%2C_Kenya_%2832570316676%29.jpg\n",
            "Completed Image ====> 13.Nairobi_National_Park%2C_Kenya_%2832570316676%29.jpg\n",
            "Image URL: https://lowvelder.co.za/wp-content/uploads/sites/44/2019/01/lion-520x400.jpg\n",
            "Completed Image ====> 14.lion-520x400.jpg\n",
            "Image URL: https://ihplb.b-cdn.net/wp-content/uploads/2014/06/Bandhavgarh.jpg\n",
            "Completed Image ====> 15.Bandhavgarh.jpg\n",
            "Image URL: https://static.toiimg.com/thumb/50927262/Dudhwa-National-Park.jpg?width=748&height=499\n",
            "Completed Image ====> 16.Dudhwa-National-Park.jpg\n",
            "Image URL: https://upload.wikimedia.org/wikipedia/commons/1/1f/Tiger_Kanha_National_Park.jpg\n",
            "Completed Image ====> 17.Tiger_Kanha_National_Park.jpg\n",
            "Image URL: https://pcacdn.azureedge.net/-/media/pn-np/ab/banff/WET4/decouvrir-discover/animaux-animals/mammifieres-mammals/faune-wildlife/Grizzly-DanRafla.jpg?modified=20170314151358\n",
            "Completed Image ====> 18.Grizzly-DanRafla.jpg\n",
            "Image URL: https://assets.traveltriangle.com/blog/wp-content/uploads/2016/08/Sariska-national-Park.jpg\n",
            "Completed Image ====> 19.Sariska-national-Park.jpg\n",
            "Image URL: https://africanbluetours.com/wp-content/uploads/2015/04/2-day-kruger-slider1.jpg\n",
            "Completed Image ====> 20.2-day-kruger-slider1.jpg\n",
            "\n",
            "Errors: 0\n",
            "\n"
          ],
          "name": "stdout"
        }
      ]
    },
    {
      "cell_type": "code",
      "metadata": {
        "id": "Wt67z9yzPhar",
        "colab_type": "code",
        "colab": {}
      },
      "source": [
        "def resize_image(filename, new_width=224, new_height=224):\n",
        "    pil_image = Image.open(filename)\n",
        "    pil_image = ImageOps.fit(pil_image, (new_width, new_height), Image.ANTIALIAS)\n",
        "    pil_image_rgb = pil_image.convert('RGB')\n",
        "    pil_image_rgb.save(filename, format='JPEG', quality=90)\n",
        "    return filename\n",
        "  \n",
        "\n",
        "pics = [resize_image(image) for image in image_list]"
      ],
      "execution_count": 0,
      "outputs": []
    },
    {
      "cell_type": "code",
      "metadata": {
        "id": "icRNBrORR4vK",
        "colab_type": "code",
        "colab": {}
      },
      "source": [
        "import requests"
      ],
      "execution_count": 0,
      "outputs": []
    },
    {
      "cell_type": "code",
      "metadata": {
        "id": "hYxKnd03Pzje",
        "colab_type": "code",
        "colab": {}
      },
      "source": [
        "images = np.array([np.asarray(Image.open(image)) / 255 for image in pics])\n",
        "\n",
        "logits = module(images)\n",
        "\n",
        "target_map = requests.get('https://storage.googleapis.com/download.tensorflow.org/data/ImageNetLabels.txt')\n",
        "\n",
        "clean = [target.strip(r\"'b'\").strip(r'\"') for target in str(target_map).split('\\\\n')]"
      ],
      "execution_count": 0,
      "outputs": []
    },
    {
      "cell_type": "code",
      "metadata": {
        "id": "s1xyOWAnRp56",
        "colab_type": "code",
        "colab": {}
      },
      "source": [
        "with tf.Session() as sess:\n",
        "  sess.run(tf.global_variables_initializer())\n",
        "  codes = []\n",
        "  \n",
        "  for i in range(20):\n",
        "    codes.append(np.argmax(logits[i].eval()))"
      ],
      "execution_count": 0,
      "outputs": []
    },
    {
      "cell_type": "code",
      "metadata": {
        "id": "bNkh3pT2Urro",
        "colab_type": "code",
        "colab": {}
      },
      "source": [
        ""
      ],
      "execution_count": 0,
      "outputs": []
    },
    {
      "cell_type": "markdown",
      "metadata": {
        "colab_type": "text",
        "id": "uT3UV3gap9H6"
      },
      "source": [
        "# Resources and Stretch Goals\n",
        "\n",
        "Stretch goals\n",
        "- Enhance your code to use classes/functions and accept terms to search and classes to look for in recognizing the downloaded images (e.g. download images of parties, recognize all that contain balloons)\n",
        "- Check out [other available pretrained networks](https://tfhub.dev), try some and compare\n",
        "- Image recognition/classification is somewhat solved, but *relationships* between entities and describing an image is not - check out some of the extended resources (e.g. [Visual Genome](https://visualgenome.org/)) on the topic\n",
        "- Transfer learning - using images you source yourself, [retrain a classifier](https://www.tensorflow.org/hub/tutorials/image_retraining) with a new category\n",
        "- (Not CNN related) Use [piexif](https://pypi.org/project/piexif/) to check out the metadata of images passed in to your system - see if they're from a national park! (Note - many images lack GPS metadata, so this won't work in most cases, but still cool)\n",
        "\n",
        "Resources\n",
        "- [Deep Residual Learning for Image Recognition](https://arxiv.org/abs/1512.03385) - influential paper (introduced ResNet)\n",
        "- [YOLO: Real-Time Object Detection](https://pjreddie.com/darknet/yolo/) - an influential convolution based object detection system, focused on inference speed (for applications to e.g. self driving vehicles)\n",
        "- [R-CNN, Fast R-CNN, Faster R-CNN, YOLO](https://towardsdatascience.com/r-cnn-fast-r-cnn-faster-r-cnn-yolo-object-detection-algorithms-36d53571365e) - comparison of object detection systems\n",
        "- [Common Objects in Context](http://cocodataset.org/) - a large-scale object detection, segmentation, and captioning dataset\n",
        "- [Visual Genome](https://visualgenome.org/) - a dataset, a knowledge base, an ongoing effort to connect structured image concepts to language"
      ]
    }
  ]
}